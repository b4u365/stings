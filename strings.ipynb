{
 "cells": [
  {
   "cell_type": "code",
   "execution_count": 2,
   "metadata": {},
   "outputs": [],
   "source": [
    "s2=\"I am a ai developer\""
   ]
  },
  {
   "cell_type": "code",
   "execution_count": 3,
   "metadata": {},
   "outputs": [
    {
     "data": {
      "text/plain": [
       "' am '"
      ]
     },
     "execution_count": 3,
     "metadata": {},
     "output_type": "execute_result"
    }
   ],
   "source": [
    "s2[1:5]"
   ]
  },
  {
   "cell_type": "code",
   "execution_count": 4,
   "metadata": {},
   "outputs": [
    {
     "data": {
      "text/plain": [
       "' ai developer'"
      ]
     },
     "execution_count": 4,
     "metadata": {},
     "output_type": "execute_result"
    }
   ],
   "source": [
    "s2[6:30]"
   ]
  },
  {
   "cell_type": "code",
   "execution_count": 5,
   "metadata": {},
   "outputs": [
    {
     "data": {
      "text/plain": [
       "' idvlpr'"
      ]
     },
     "execution_count": 5,
     "metadata": {},
     "output_type": "execute_result"
    }
   ],
   "source": [
    "s2[6:30:2]"
   ]
  },
  {
   "cell_type": "code",
   "execution_count": 6,
   "metadata": {},
   "outputs": [],
   "source": [
    "s=\"bharath\""
   ]
  },
  {
   "cell_type": "code",
   "execution_count": 7,
   "metadata": {},
   "outputs": [
    {
     "data": {
      "text/plain": [
       "''"
      ]
     },
     "execution_count": 7,
     "metadata": {},
     "output_type": "execute_result"
    }
   ],
   "source": [
    "s[0:8:-1]"
   ]
  },
  {
   "cell_type": "code",
   "execution_count": 8,
   "metadata": {},
   "outputs": [
    {
     "data": {
      "text/plain": [
       "'htarah'"
      ]
     },
     "execution_count": 8,
     "metadata": {},
     "output_type": "execute_result"
    }
   ],
   "source": [
    "s[8:0:-1]"
   ]
  },
  {
   "cell_type": "code",
   "execution_count": 9,
   "metadata": {},
   "outputs": [
    {
     "data": {
      "text/plain": [
       "'bhar'"
      ]
     },
     "execution_count": 9,
     "metadata": {},
     "output_type": "execute_result"
    }
   ],
   "source": [
    "s[:-3]"
   ]
  },
  {
   "cell_type": "code",
   "execution_count": 10,
   "metadata": {},
   "outputs": [
    {
     "data": {
      "text/plain": [
       "'th'"
      ]
     },
     "execution_count": 10,
     "metadata": {},
     "output_type": "execute_result"
    }
   ],
   "source": [
    "s[-2:]"
   ]
  },
  {
   "cell_type": "code",
   "execution_count": 11,
   "metadata": {},
   "outputs": [
    {
     "data": {
      "text/plain": [
       "'bharath'"
      ]
     },
     "execution_count": 11,
     "metadata": {},
     "output_type": "execute_result"
    }
   ],
   "source": [
    "s[::1]"
   ]
  },
  {
   "cell_type": "code",
   "execution_count": 12,
   "metadata": {},
   "outputs": [
    {
     "data": {
      "text/plain": [
       "'htarahb'"
      ]
     },
     "execution_count": 12,
     "metadata": {},
     "output_type": "execute_result"
    }
   ],
   "source": [
    "s[::-1]"
   ]
  },
  {
   "cell_type": "code",
   "execution_count": 13,
   "metadata": {},
   "outputs": [
    {
     "data": {
      "text/plain": [
       "'htarah'"
      ]
     },
     "execution_count": 13,
     "metadata": {},
     "output_type": "execute_result"
    }
   ],
   "source": [
    "s[8:0:-1]"
   ]
  },
  {
   "cell_type": "code",
   "execution_count": 14,
   "metadata": {},
   "outputs": [
    {
     "data": {
      "text/plain": [
       "2"
      ]
     },
     "execution_count": 14,
     "metadata": {},
     "output_type": "execute_result"
    }
   ],
   "source": [
    "s.count('h')"
   ]
  },
  {
   "cell_type": "code",
   "execution_count": 15,
   "metadata": {},
   "outputs": [
    {
     "data": {
      "text/plain": [
       "['b', 'arat', '']"
      ]
     },
     "execution_count": 15,
     "metadata": {},
     "output_type": "execute_result"
    }
   ],
   "source": [
    "s.split('h')"
   ]
  },
  {
   "cell_type": "code",
   "execution_count": 16,
   "metadata": {},
   "outputs": [],
   "source": [
    "pp=\"\"\"\"Visual perception plays an important role in autonomous driving. One of the primary tasks is object detection and identification. Since the vision sensor is rich in color and texture information, it can quickly and accurately identify various road information. The commonly used technique is based on extracting and calculating various features of the image. The recent development of deep learning-based method has better reliability and processing speed and has a greater advantage in recognizing complex elements. For depth estimation, vision sensor is also used for ranging due to their small size and low cost. Monocular camera uses image data from a single viewpoint as input to estimate object depth. In contrast, stereo vision is based on parallax and matching feature points of different views, and the application of deep learning also further improves the accuracy. In addition, Simultaneous Location and Mapping (SLAM) can establish a model of the road environment, thus helping the vehicle perceive the surrounding environment and complete the tasks. In this paper, we introduce and compare various methods of object detection and identification, then explain the development of depth estimation and compare various methods based on monocular, stereo, and RDBG sensors, next review and compare various methods of SLAM, and finally summarize the current problems and present the future development trends of vision technologies. \"\"\""
   ]
  },
  {
   "cell_type": "code",
   "execution_count": 17,
   "metadata": {},
   "outputs": [
    {
     "data": {
      "text/plain": [
       "'\"Visual perception plays an important role in autonomous driving. One of the primary tasks is object detection and identification. Since the vision sensor is rich in color and texture information, it can quickly and accurately identify various road information. The commonly used technique is based on extracting and calculating various features of the image. The recent development of deep learning-based method has better reliability and processing speed and has a greater advantage in recognizing complex elements. For depth estimation, vision sensor is also used for ranging due to their small size and low cost. Monocular camera uses image data from a single viewpoint as input to estimate object depth. In contrast, stereo vision is based on parallax and matching feature points of different views, and the application of deep learning also further improves the accuracy. In addition, Simultaneous Location and Mapping (SLAM) can establish a model of the road environment, thus helping the vehicle perceive the surrounding environment and complete the tasks. In this paper, we introduce and compare various methods of object detection and identification, then explain the development of depth estimation and compare various methods based on monocular, stereo, and RDBG sensors, next review and compare various methods of SLAM, and finally summarize the current problems and present the future development trends of vision technologies. '"
      ]
     },
     "execution_count": 17,
     "metadata": {},
     "output_type": "execute_result"
    }
   ],
   "source": [
    "pp"
   ]
  },
  {
   "cell_type": "code",
   "execution_count": 18,
   "metadata": {},
   "outputs": [
    {
     "data": {
      "text/plain": [
       "'\"VISUAL PERCEPTION PLAYS AN IMPORTANT ROLE IN AUTONOMOUS DRIVING. ONE OF THE PRIMARY TASKS IS OBJECT DETECTION AND IDENTIFICATION. SINCE THE VISION SENSOR IS RICH IN COLOR AND TEXTURE INFORMATION, IT CAN QUICKLY AND ACCURATELY IDENTIFY VARIOUS ROAD INFORMATION. THE COMMONLY USED TECHNIQUE IS BASED ON EXTRACTING AND CALCULATING VARIOUS FEATURES OF THE IMAGE. THE RECENT DEVELOPMENT OF DEEP LEARNING-BASED METHOD HAS BETTER RELIABILITY AND PROCESSING SPEED AND HAS A GREATER ADVANTAGE IN RECOGNIZING COMPLEX ELEMENTS. FOR DEPTH ESTIMATION, VISION SENSOR IS ALSO USED FOR RANGING DUE TO THEIR SMALL SIZE AND LOW COST. MONOCULAR CAMERA USES IMAGE DATA FROM A SINGLE VIEWPOINT AS INPUT TO ESTIMATE OBJECT DEPTH. IN CONTRAST, STEREO VISION IS BASED ON PARALLAX AND MATCHING FEATURE POINTS OF DIFFERENT VIEWS, AND THE APPLICATION OF DEEP LEARNING ALSO FURTHER IMPROVES THE ACCURACY. IN ADDITION, SIMULTANEOUS LOCATION AND MAPPING (SLAM) CAN ESTABLISH A MODEL OF THE ROAD ENVIRONMENT, THUS HELPING THE VEHICLE PERCEIVE THE SURROUNDING ENVIRONMENT AND COMPLETE THE TASKS. IN THIS PAPER, WE INTRODUCE AND COMPARE VARIOUS METHODS OF OBJECT DETECTION AND IDENTIFICATION, THEN EXPLAIN THE DEVELOPMENT OF DEPTH ESTIMATION AND COMPARE VARIOUS METHODS BASED ON MONOCULAR, STEREO, AND RDBG SENSORS, NEXT REVIEW AND COMPARE VARIOUS METHODS OF SLAM, AND FINALLY SUMMARIZE THE CURRENT PROBLEMS AND PRESENT THE FUTURE DEVELOPMENT TRENDS OF VISION TECHNOLOGIES. '"
      ]
     },
     "execution_count": 18,
     "metadata": {},
     "output_type": "execute_result"
    }
   ],
   "source": [
    "pp.upper()"
   ]
  },
  {
   "cell_type": "code",
   "execution_count": 19,
   "metadata": {},
   "outputs": [
    {
     "data": {
      "text/plain": [
       "'\"Visual Perception Plays An Important Role In Autonomous Driving. One Of The Primary Tasks Is Object Detection And Identification. Since The Vision Sensor Is Rich In Color And Texture Information, It Can Quickly And Accurately Identify Various Road Information. The Commonly Used Technique Is Based On Extracting And Calculating Various Features Of The Image. The Recent Development Of Deep Learning-Based Method Has Better Reliability And Processing Speed And Has A Greater Advantage In Recognizing Complex Elements. For Depth Estimation, Vision Sensor Is Also Used For Ranging Due To Their Small Size And Low Cost. Monocular Camera Uses Image Data From A Single Viewpoint As Input To Estimate Object Depth. In Contrast, Stereo Vision Is Based On Parallax And Matching Feature Points Of Different Views, And The Application Of Deep Learning Also Further Improves The Accuracy. In Addition, Simultaneous Location And Mapping (Slam) Can Establish A Model Of The Road Environment, Thus Helping The Vehicle Perceive The Surrounding Environment And Complete The Tasks. In This Paper, We Introduce And Compare Various Methods Of Object Detection And Identification, Then Explain The Development Of Depth Estimation And Compare Various Methods Based On Monocular, Stereo, And Rdbg Sensors, Next Review And Compare Various Methods Of Slam, And Finally Summarize The Current Problems And Present The Future Development Trends Of Vision Technologies. '"
      ]
     },
     "execution_count": 19,
     "metadata": {},
     "output_type": "execute_result"
    }
   ],
   "source": [
    "pp.title()"
   ]
  },
  {
   "cell_type": "code",
   "execution_count": 20,
   "metadata": {},
   "outputs": [
    {
     "data": {
      "text/plain": [
       "'\"visual perception plays an important role in autonomous driving. one of the primary tasks is object detection and identification. since the vision sensor is rich in color and texture information, it can quickly and accurately identify various road information. the commonly used technique is based on extracting and calculating various features of the image. the recent development of deep learning-based method has better reliability and processing speed and has a greater advantage in recognizing complex elements. for depth estimation, vision sensor is also used for ranging due to their small size and low cost. monocular camera uses image data from a single viewpoint as input to estimate object depth. in contrast, stereo vision is based on parallax and matching feature points of different views, and the application of deep learning also further improves the accuracy. in addition, simultaneous location and mapping (slam) can establish a model of the road environment, thus helping the vehicle perceive the surrounding environment and complete the tasks. in this paper, we introduce and compare various methods of object detection and identification, then explain the development of depth estimation and compare various methods based on monocular, stereo, and rdbg sensors, next review and compare various methods of slam, and finally summarize the current problems and present the future development trends of vision technologies. '"
      ]
     },
     "execution_count": 20,
     "metadata": {},
     "output_type": "execute_result"
    }
   ],
   "source": [
    "pp.capitalize()"
   ]
  },
  {
   "cell_type": "code",
   "execution_count": 21,
   "metadata": {},
   "outputs": [],
   "source": [
    "s=\"bharath\""
   ]
  },
  {
   "cell_type": "code",
   "execution_count": 22,
   "metadata": {},
   "outputs": [
    {
     "data": {
      "text/plain": [
       "'htarahb'"
      ]
     },
     "execution_count": 22,
     "metadata": {},
     "output_type": "execute_result"
    }
   ],
   "source": [
    "''.join(reversed(s))"
   ]
  },
  {
   "cell_type": "code",
   "execution_count": 23,
   "metadata": {},
   "outputs": [
    {
     "data": {
      "text/plain": [
       "'b h a r a t h'"
      ]
     },
     "execution_count": 23,
     "metadata": {},
     "output_type": "execute_result"
    }
   ],
   "source": [
    "\" \".join(s)"
   ]
  },
  {
   "cell_type": "code",
   "execution_count": 24,
   "metadata": {},
   "outputs": [
    {
     "ename": "TypeError",
     "evalue": "center expected at least 1 argument, got 0",
     "output_type": "error",
     "traceback": [
      "\u001b[1;31m---------------------------------------------------------------------------\u001b[0m",
      "\u001b[1;31mTypeError\u001b[0m                                 Traceback (most recent call last)",
      "Cell \u001b[1;32mIn[24], line 1\u001b[0m\n\u001b[1;32m----> 1\u001b[0m s\u001b[39m.\u001b[39;49mcenter()\n",
      "\u001b[1;31mTypeError\u001b[0m: center expected at least 1 argument, got 0"
     ]
    }
   ],
   "source": [
    "s.center()"
   ]
  },
  {
   "cell_type": "code",
   "execution_count": null,
   "metadata": {},
   "outputs": [],
   "source": [
    "list1=[1,2,3,4,\"kumar\"]"
   ]
  },
  {
   "cell_type": "code",
   "execution_count": null,
   "metadata": {},
   "outputs": [
    {
     "name": "stdout",
     "output_type": "stream",
     "text": [
      "1\n",
      "2\n",
      "3\n"
     ]
    }
   ],
   "source": [
    "for i in list1:\n",
    "    if i==4:\n",
    "       \n",
    "        break\n",
    "    print(i)\n",
    "else:\n",
    "    print(\"if for loop\")"
   ]
  },
  {
   "cell_type": "markdown",
   "metadata": {},
   "source": [
    "d={'veh':\"car\",'brand':toytata,'model':'ra4'}\n"
   ]
  },
  {
   "cell_type": "code",
   "execution_count": null,
   "metadata": {},
   "outputs": [],
   "source": [
    "d={'veh':\"car\",'brand':'toyata','model':'ra4'}"
   ]
  },
  {
   "cell_type": "code",
   "execution_count": null,
   "metadata": {},
   "outputs": [
    {
     "name": "stdout",
     "output_type": "stream",
     "text": [
      "veh\n",
      "brand\n",
      "model\n"
     ]
    }
   ],
   "source": [
    "for i in d:\n",
    "    print(i)"
   ]
  },
  {
   "cell_type": "code",
   "execution_count": null,
   "metadata": {},
   "outputs": [
    {
     "name": "stdout",
     "output_type": "stream",
     "text": [
      "veh : car\n",
      "brand : toyata\n",
      "model : ra4\n"
     ]
    }
   ],
   "source": [
    "for i in d:\n",
    "    print(i,':', d[i])"
   ]
  },
  {
   "cell_type": "code",
   "execution_count": null,
   "metadata": {},
   "outputs": [
    {
     "name": "stdout",
     "output_type": "stream",
     "text": [
      "bharath \n",
      "\n",
      "bharath bharath \n",
      "\n",
      "bharath bharath bharath \n",
      "\n",
      "bharath bharath bharath bharath \n",
      "\n"
     ]
    }
   ],
   "source": [
    "s=\"bharath\"\n",
    "n=4\n",
    "for i in range(0,4):\n",
    "    for j in range(0,i+1):\n",
    "        print(s,end=\" \")\n",
    "    print(\"\\n\")\n",
    "\n",
    "\n",
    "   \n"
   ]
  },
  {
   "cell_type": "code",
   "execution_count": null,
   "metadata": {},
   "outputs": [],
   "source": [
    "t=(3,23,45,67,2,4,5,6)\n"
   ]
  },
  {
   "cell_type": "code",
   "execution_count": null,
   "metadata": {},
   "outputs": [
    {
     "name": "stdout",
     "output_type": "stream",
     "text": [
      "0 3\n",
      "1 23\n",
      "2 45\n",
      "3 67\n",
      "4 2\n",
      "5 4\n",
      "6 5\n",
      "7 6\n"
     ]
    }
   ],
   "source": [
    "for i in range(0,8):\n",
    "    print (i  ,  t[i])"
   ]
  },
  {
   "cell_type": "code",
   "execution_count": null,
   "metadata": {},
   "outputs": [
    {
     "name": "stdout",
     "output_type": "stream",
     "text": [
      "6 n\n",
      "5 o\n",
      "4 r\n",
      "3 u\n",
      "2 e\n",
      "1 n\n",
      "0 i\n"
     ]
    }
   ],
   "source": [
    "st=\"ineuron\"\n",
    "n=len(st)\n",
    "for n in range(len(st)-1,-1,-1):\n",
    "    print(n,st[n])\n",
    "    \n",
    "\n"
   ]
  },
  {
   "cell_type": "code",
   "execution_count": null,
   "metadata": {},
   "outputs": [
    {
     "data": {
      "text/plain": [
       "{'veh': 'car', 'brand': 'toyata', 'model': 'ra4'}"
      ]
     },
     "execution_count": 94,
     "metadata": {},
     "output_type": "execute_result"
    }
   ],
   "source": [
    "d"
   ]
  },
  {
   "cell_type": "code",
   "execution_count": null,
   "metadata": {},
   "outputs": [
    {
     "name": "stdout",
     "output_type": "stream",
     "text": [
      "('veh', 'car')\n",
      "('brand', 'toyata')\n",
      "('model', 'ra4')\n"
     ]
    }
   ],
   "source": [
    "for i in d.items():\n",
    "    print(i)"
   ]
  },
  {
   "cell_type": "code",
   "execution_count": null,
   "metadata": {},
   "outputs": [],
   "source": [
    "lt1=[\"sudh\",\"kumar\",3245,\"afs\",456,4567]"
   ]
  },
  {
   "cell_type": "code",
   "execution_count": null,
   "metadata": {},
   "outputs": [
    {
     "data": {
      "text/plain": [
       "[3245, 456, 4567]"
      ]
     },
     "execution_count": 114,
     "metadata": {},
     "output_type": "execute_result"
    }
   ],
   "source": [
    "lt1=[\"sudh\",\"kumar\",3245,\"afs\",456,4567]\n",
    "lt2=[]\n",
    "for i in lt1:\n",
    "    if type(i)==int:\n",
    "        lt2.append(i)\n",
    "\n",
    "lt2"
   ]
  },
  {
   "cell_type": "code",
   "execution_count": null,
   "metadata": {},
   "outputs": [
    {
     "name": "stdout",
     "output_type": "stream",
     "text": [
      "3 <class 'int'>\n",
      "4 <class 'int'>\n",
      "5 <class 'int'>\n",
      "6 <class 'int'>\n",
      "6 <class 'int'>\n",
      "7 <class 'int'>\n",
      "8 <class 'int'>\n",
      "9 <class 'int'>\n",
      "8 <class 'int'>\n"
     ]
    }
   ],
   "source": [
    "i=345667898\n",
    "for item in str(i):\n",
    "    print(int(item),type(int(item)))"
   ]
  },
  {
   "cell_type": "code",
   "execution_count": null,
   "metadata": {},
   "outputs": [],
   "source": [
    "t=(\"bharath\",[1,2,3,4],(3,4,5,6),3,{'key1':\"bharath\",\"key2\":\"kumar\",3:3})"
   ]
  },
  {
   "cell_type": "code",
   "execution_count": null,
   "metadata": {},
   "outputs": [
    {
     "data": {
      "text/plain": [
       "[3, 3, 3, 3]"
      ]
     },
     "execution_count": 199,
     "metadata": {},
     "output_type": "execute_result"
    }
   ],
   "source": [
    "t=(\"bharath\",[1,2,3,4],(3,4,5,6),3,{'key1':\"bharath\",\"key2\":\"kumar\",3:3})\n",
    "lst3=[]\n",
    "for item in t:\n",
    "    if item==3:\n",
    "        lst3.append(item)\n",
    "    elif type(item)==list or type(item)==tuple :\n",
    "        for i in item:\n",
    "            if i == 3:\n",
    "                lst3.append(i)\n",
    "    elif type(item)==dict:\n",
    "        for j,l in item.items():\n",
    "                     \n",
    "            if j  == 3:\n",
    "                lst3.append(j)\n",
    "            elif l==3:\n",
    "                lst3.append(l)\n",
    "\n",
    "            \n",
    "\n",
    "\n",
    "        \n",
    "lst3"
   ]
  },
  {
   "cell_type": "code",
   "execution_count": null,
   "metadata": {},
   "outputs": [],
   "source": [
    "l3=[4,5,6,[1,2,3,\"BKT\"],\"BT\"]\n",
    "\n",
    "l4=[]"
   ]
  },
  {
   "cell_type": "code",
   "execution_count": null,
   "metadata": {},
   "outputs": [],
   "source": [
    "def extract(l):\n",
    "    for item in l:\n",
    "        if type(item)==int or type(item)==float or type(item)==str:\n",
    "\n",
    "            l4.append(item)\n",
    "    \n",
    "        elif type(item)==list or type(item)==tuple:\n",
    "            for i in item:                \n",
    "                  l4.append(i)\n",
    "    print(l4)\n",
    "    \n",
    "    \n",
    "    \n",
    "    \n",
    "\n"
   ]
  },
  {
   "cell_type": "code",
   "execution_count": null,
   "metadata": {},
   "outputs": [
    {
     "name": "stdout",
     "output_type": "stream",
     "text": [
      "[4, 5, 6, 4, 5, 6, 1, 2, 3, 'BKT', 'BT']\n"
     ]
    }
   ],
   "source": [
    "extract(l3)"
   ]
  },
  {
   "cell_type": "code",
   "execution_count": null,
   "metadata": {},
   "outputs": [],
   "source": []
  },
  {
   "cell_type": "code",
   "execution_count": null,
   "metadata": {},
   "outputs": [
    {
     "name": "stdout",
     "output_type": "stream",
     "text": [
      "n\n",
      "l\n",
      "p\n"
     ]
    }
   ],
   "source": [
    "b=\"nlp\"\n",
    "for i in b:\n",
    "    print(i)"
   ]
  },
  {
   "cell_type": "code",
   "execution_count": null,
   "metadata": {},
   "outputs": [
    {
     "name": "stdout",
     "output_type": "stream",
     "text": [
      "None\n"
     ]
    }
   ],
   "source": [
    "a=extract(l)\n",
    "print(a)"
   ]
  },
  {
   "cell_type": "code",
   "execution_count": 26,
   "metadata": {},
   "outputs": [],
   "source": [
    "def fibonacci(n):\n",
    "    a=1\n",
    "    b=1\n",
    "    lst=[]\n",
    "    for i in range(n):\n",
    "        lst.append(a)\n",
    "        a,b=b,a+b\n",
    "\n",
    "    return lst\n",
    "\n",
    "    \n"
   ]
  },
  {
   "cell_type": "code",
   "execution_count": 27,
   "metadata": {},
   "outputs": [
    {
     "data": {
      "text/plain": [
       "[1, 1, 2, 3, 5, 8, 13, 21, 34, 55]"
      ]
     },
     "execution_count": 27,
     "metadata": {},
     "output_type": "execute_result"
    }
   ],
   "source": [
    "fibonacci(10)"
   ]
  },
  {
   "cell_type": "code",
   "execution_count": 35,
   "metadata": {},
   "outputs": [],
   "source": [
    "#map, reduce, filter\n",
    "\n",
    "l=[2,3,4,5,8,9,8]\n",
    "l1=[]\n",
    "for i in l:\n",
    "    l1.append(i**2)\n"
   ]
  },
  {
   "cell_type": "code",
   "execution_count": 36,
   "metadata": {},
   "outputs": [
    {
     "data": {
      "text/plain": [
       "[4, 9, 16, 25, 64, 81, 64]"
      ]
     },
     "execution_count": 36,
     "metadata": {},
     "output_type": "execute_result"
    }
   ],
   "source": [
    "l1"
   ]
  },
  {
   "cell_type": "code",
   "execution_count": 37,
   "metadata": {},
   "outputs": [],
   "source": [
    "def sq(n):\n",
    "    return n**2"
   ]
  },
  {
   "cell_type": "code",
   "execution_count": 41,
   "metadata": {},
   "outputs": [
    {
     "data": {
      "text/plain": [
       "[4, 9, 16, 25, 64, 81, 64]"
      ]
     },
     "execution_count": 41,
     "metadata": {},
     "output_type": "execute_result"
    }
   ],
   "source": [
    "list(map(sq,l))"
   ]
  },
  {
   "cell_type": "code",
   "execution_count": 47,
   "metadata": {},
   "outputs": [],
   "source": [
    "def str_fun(n):\n",
    "    return str(n)"
   ]
  },
  {
   "cell_type": "code",
   "execution_count": 52,
   "metadata": {},
   "outputs": [
    {
     "data": {
      "text/plain": [
       "['4', '9', '16', '25', '64', '81', '64']"
      ]
     },
     "execution_count": 52,
     "metadata": {},
     "output_type": "execute_result"
    }
   ],
   "source": [
    "list(map(str_fun,l1))"
   ]
  },
  {
   "cell_type": "code",
   "execution_count": 53,
   "metadata": {},
   "outputs": [],
   "source": [
    "from functools import reduce"
   ]
  },
  {
   "cell_type": "code",
   "execution_count": null,
   "metadata": {},
   "outputs": [],
   "source": [
    "def sum_n(n):\n",
    "    "
   ]
  }
 ],
 "metadata": {
  "kernelspec": {
   "display_name": "Python 3",
   "language": "python",
   "name": "python3"
  },
  "language_info": {
   "codemirror_mode": {
    "name": "ipython",
    "version": 3
   },
   "file_extension": ".py",
   "mimetype": "text/x-python",
   "name": "python",
   "nbconvert_exporter": "python",
   "pygments_lexer": "ipython3",
   "version": "3.9.0"
  },
  "orig_nbformat": 4
 },
 "nbformat": 4,
 "nbformat_minor": 2
}
